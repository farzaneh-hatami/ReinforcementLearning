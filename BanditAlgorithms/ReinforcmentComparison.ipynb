{
  "nbformat": 4,
  "nbformat_minor": 0,
  "metadata": {
    "colab": {
      "name": "Q3.ipynb",
      "provenance": [],
      "collapsed_sections": []
    },
    "kernelspec": {
      "name": "python3",
      "display_name": "Python 3"
    },
    "language_info": {
      "name": "python"
    }
  },
  "cells": [
    {
      "cell_type": "code",
      "metadata": {
        "colab": {
          "base_uri": "https://localhost:8080/"
        },
        "id": "4sJcdZmnsWTc",
        "outputId": "86899877-694f-4873-8300-9f2307a43f63"
      },
      "source": [
        "!git clone https://github.com/amirhosein-mesbah/AMAlearn.git"
      ],
      "execution_count": 1,
      "outputs": [
        {
          "output_type": "stream",
          "name": "stdout",
          "text": [
            "fatal: destination path 'AMAlearn' already exists and is not an empty directory.\n"
          ]
        }
      ]
    },
    {
      "cell_type": "code",
      "metadata": {
        "colab": {
          "base_uri": "https://localhost:8080/"
        },
        "id": "hR_1HnQHsaQo",
        "outputId": "af1a645d-58f8-48f3-8e44-a4c7a2d8bddf"
      },
      "source": [
        "!ls"
      ],
      "execution_count": 2,
      "outputs": [
        {
          "output_type": "stream",
          "name": "stdout",
          "text": [
            "AMAlearn  drive  sample_data\n"
          ]
        }
      ]
    },
    {
      "cell_type": "code",
      "metadata": {
        "colab": {
          "base_uri": "https://localhost:8080/"
        },
        "id": "ZlH40SD0saSZ",
        "outputId": "7f1e7a71-2074-4c61-b924-afb42060ced2"
      },
      "source": [
        "%cd '/content/AMAlearn/'"
      ],
      "execution_count": 3,
      "outputs": [
        {
          "output_type": "stream",
          "name": "stdout",
          "text": [
            "/content/AMAlearn\n"
          ]
        }
      ]
    },
    {
      "cell_type": "code",
      "metadata": {
        "colab": {
          "base_uri": "https://localhost:8080/"
        },
        "id": "oOBlGOyMsaVG",
        "outputId": "a26fe621-c8d7-4686-b59e-d8a76b78479a"
      },
      "source": [
        "!pwd"
      ],
      "execution_count": 4,
      "outputs": [
        {
          "output_type": "stream",
          "name": "stdout",
          "text": [
            "/content/AMAlearn\n"
          ]
        }
      ]
    },
    {
      "cell_type": "code",
      "metadata": {
        "colab": {
          "base_uri": "https://localhost:8080/"
        },
        "id": "aiNZjzfVsaXg",
        "outputId": "6bcc93d6-297d-4f77-a38e-bcc51062e9c5"
      },
      "source": [
        "!pip install -e ."
      ],
      "execution_count": 5,
      "outputs": [
        {
          "output_type": "stream",
          "name": "stdout",
          "text": [
            "Obtaining file:///content/AMAlearn\n",
            "Requirement already satisfied: gym in /usr/local/lib/python3.7/dist-packages (from amalearn==0.1) (0.17.3)\n",
            "Requirement already satisfied: numpy in /usr/local/lib/python3.7/dist-packages (from amalearn==0.1) (1.19.5)\n",
            "Requirement already satisfied: scipy in /usr/local/lib/python3.7/dist-packages (from gym->amalearn==0.1) (1.4.1)\n",
            "Requirement already satisfied: pyglet<=1.5.0,>=1.4.0 in /usr/local/lib/python3.7/dist-packages (from gym->amalearn==0.1) (1.5.0)\n",
            "Requirement already satisfied: cloudpickle<1.7.0,>=1.2.0 in /usr/local/lib/python3.7/dist-packages (from gym->amalearn==0.1) (1.3.0)\n",
            "Requirement already satisfied: future in /usr/local/lib/python3.7/dist-packages (from pyglet<=1.5.0,>=1.4.0->gym->amalearn==0.1) (0.16.0)\n",
            "Installing collected packages: amalearn\n",
            "  Attempting uninstall: amalearn\n",
            "    Found existing installation: amalearn 0.1\n",
            "    Can't uninstall 'amalearn'. No files were found to uninstall.\n",
            "  Running setup.py develop for amalearn\n",
            "Successfully installed amalearn-0.1\n"
          ]
        }
      ]
    },
    {
      "cell_type": "code",
      "metadata": {
        "colab": {
          "base_uri": "https://localhost:8080/"
        },
        "id": "PI7mKfn3sabP",
        "outputId": "60c58ed8-132b-4158-966e-38fc9dbf4a85"
      },
      "source": [
        "from google.colab import drive\n",
        "drive.mount('/content/drive')"
      ],
      "execution_count": 6,
      "outputs": [
        {
          "output_type": "stream",
          "name": "stdout",
          "text": [
            "Drive already mounted at /content/drive; to attempt to forcibly remount, call drive.mount(\"/content/drive\", force_remount=True).\n"
          ]
        }
      ]
    },
    {
      "cell_type": "code",
      "metadata": {
        "id": "j4WhYBQFsmlj"
      },
      "source": [
        "from amalearn.environment import MutliArmedBanditEnvironment\n",
        "from amalearn.agent import RandomBanditAgent\n",
        "from amalearn.reward import GaussianReward\n",
        "from amalearn.reward import RewardBase\n",
        "from amalearn.agent import AgentBase\n",
        "import numpy as np\n",
        "import pandas as pd\n",
        "import matplotlib.pyplot as plt"
      ],
      "execution_count": 7,
      "outputs": []
    },
    {
      "cell_type": "code",
      "metadata": {
        "colab": {
          "base_uri": "https://localhost:8080/"
        },
        "id": "rneQwfA-smnU",
        "outputId": "db9569bf-e4d8-4d84-89c0-8277b69a20c4"
      },
      "source": [
        "!ls"
      ],
      "execution_count": 8,
      "outputs": [
        {
          "output_type": "stream",
          "name": "stdout",
          "text": [
            "amalearn  amalearn.egg-info  example  README.md  setup.py\n"
          ]
        }
      ]
    },
    {
      "cell_type": "code",
      "metadata": {
        "id": "Nja-_yessmpV"
      },
      "source": [
        "PATH =  '/content/drive/MyDrive/Colab Notebooks/RL'\n",
        "!cd  '/content/drive/MyDrive/Colab Notebooks/RL'"
      ],
      "execution_count": 41,
      "outputs": []
    },
    {
      "cell_type": "code",
      "metadata": {
        "colab": {
          "base_uri": "https://localhost:8080/",
          "height": 424
        },
        "id": "H2a3UxTosms_",
        "outputId": "be4a0504-5c62-49d2-d882-f36c733a94ec"
      },
      "source": [
        "df = pd.read_csv(PATH +'/Q3.csv')\n",
        "score_cost = df.columns\n",
        "value_list = ['value_adidas_1','value_adidas_2','value_adidas_3','value_nike_1','value_nike_2','value_nike_3']\n",
        "for i in range(len(value_list)):\n",
        "  df[value_list[i]] = (2*df.loc[:,score_cost[i*2]])-df.loc[:,score_cost[i*2+1]] #i*2 = score ,#i*2+1 = cost\n",
        "\n",
        "df_value = df.loc[:,value_list[0]:value_list[-1]]\n",
        "df_value"
      ],
      "execution_count": 42,
      "outputs": [
        {
          "output_type": "execute_result",
          "data": {
            "text/html": [
              "<div>\n",
              "<style scoped>\n",
              "    .dataframe tbody tr th:only-of-type {\n",
              "        vertical-align: middle;\n",
              "    }\n",
              "\n",
              "    .dataframe tbody tr th {\n",
              "        vertical-align: top;\n",
              "    }\n",
              "\n",
              "    .dataframe thead th {\n",
              "        text-align: right;\n",
              "    }\n",
              "</style>\n",
              "<table border=\"1\" class=\"dataframe\">\n",
              "  <thead>\n",
              "    <tr style=\"text-align: right;\">\n",
              "      <th></th>\n",
              "      <th>value_adidas_1</th>\n",
              "      <th>value_adidas_2</th>\n",
              "      <th>value_adidas_3</th>\n",
              "      <th>value_nike_1</th>\n",
              "      <th>value_nike_2</th>\n",
              "      <th>value_nike_3</th>\n",
              "    </tr>\n",
              "  </thead>\n",
              "  <tbody>\n",
              "    <tr>\n",
              "      <th>0</th>\n",
              "      <td>16.497568</td>\n",
              "      <td>139.704216</td>\n",
              "      <td>73.458285</td>\n",
              "      <td>34.381618</td>\n",
              "      <td>-14.948887</td>\n",
              "      <td>98.860954</td>\n",
              "    </tr>\n",
              "    <tr>\n",
              "      <th>1</th>\n",
              "      <td>16.804450</td>\n",
              "      <td>138.210231</td>\n",
              "      <td>72.186072</td>\n",
              "      <td>32.919276</td>\n",
              "      <td>-14.159456</td>\n",
              "      <td>96.905975</td>\n",
              "    </tr>\n",
              "    <tr>\n",
              "      <th>2</th>\n",
              "      <td>14.236576</td>\n",
              "      <td>139.242001</td>\n",
              "      <td>76.199589</td>\n",
              "      <td>34.967789</td>\n",
              "      <td>-14.046893</td>\n",
              "      <td>94.777765</td>\n",
              "    </tr>\n",
              "    <tr>\n",
              "      <th>3</th>\n",
              "      <td>17.119705</td>\n",
              "      <td>138.317483</td>\n",
              "      <td>71.287096</td>\n",
              "      <td>34.012164</td>\n",
              "      <td>-13.960918</td>\n",
              "      <td>94.730192</td>\n",
              "    </tr>\n",
              "    <tr>\n",
              "      <th>4</th>\n",
              "      <td>18.689987</td>\n",
              "      <td>137.518487</td>\n",
              "      <td>69.842428</td>\n",
              "      <td>30.775041</td>\n",
              "      <td>-12.542346</td>\n",
              "      <td>94.715597</td>\n",
              "    </tr>\n",
              "    <tr>\n",
              "      <th>...</th>\n",
              "      <td>...</td>\n",
              "      <td>...</td>\n",
              "      <td>...</td>\n",
              "      <td>...</td>\n",
              "      <td>...</td>\n",
              "      <td>...</td>\n",
              "    </tr>\n",
              "    <tr>\n",
              "      <th>493</th>\n",
              "      <td>14.532414</td>\n",
              "      <td>139.937666</td>\n",
              "      <td>74.889853</td>\n",
              "      <td>33.603625</td>\n",
              "      <td>-14.616968</td>\n",
              "      <td>93.582424</td>\n",
              "    </tr>\n",
              "    <tr>\n",
              "      <th>494</th>\n",
              "      <td>15.679924</td>\n",
              "      <td>140.673617</td>\n",
              "      <td>75.553007</td>\n",
              "      <td>35.559644</td>\n",
              "      <td>-13.796267</td>\n",
              "      <td>94.302991</td>\n",
              "    </tr>\n",
              "    <tr>\n",
              "      <th>495</th>\n",
              "      <td>15.485966</td>\n",
              "      <td>138.556350</td>\n",
              "      <td>64.508815</td>\n",
              "      <td>37.208891</td>\n",
              "      <td>-14.280706</td>\n",
              "      <td>98.114178</td>\n",
              "    </tr>\n",
              "    <tr>\n",
              "      <th>496</th>\n",
              "      <td>14.371186</td>\n",
              "      <td>138.679608</td>\n",
              "      <td>70.105401</td>\n",
              "      <td>35.182948</td>\n",
              "      <td>-15.521007</td>\n",
              "      <td>95.440373</td>\n",
              "    </tr>\n",
              "    <tr>\n",
              "      <th>497</th>\n",
              "      <td>15.589878</td>\n",
              "      <td>137.777035</td>\n",
              "      <td>71.825162</td>\n",
              "      <td>33.917867</td>\n",
              "      <td>-14.577918</td>\n",
              "      <td>96.935734</td>\n",
              "    </tr>\n",
              "  </tbody>\n",
              "</table>\n",
              "<p>498 rows × 6 columns</p>\n",
              "</div>"
            ],
            "text/plain": [
              "     value_adidas_1  value_adidas_2  ...  value_nike_2  value_nike_3\n",
              "0         16.497568      139.704216  ...    -14.948887     98.860954\n",
              "1         16.804450      138.210231  ...    -14.159456     96.905975\n",
              "2         14.236576      139.242001  ...    -14.046893     94.777765\n",
              "3         17.119705      138.317483  ...    -13.960918     94.730192\n",
              "4         18.689987      137.518487  ...    -12.542346     94.715597\n",
              "..              ...             ...  ...           ...           ...\n",
              "493       14.532414      139.937666  ...    -14.616968     93.582424\n",
              "494       15.679924      140.673617  ...    -13.796267     94.302991\n",
              "495       15.485966      138.556350  ...    -14.280706     98.114178\n",
              "496       14.371186      138.679608  ...    -15.521007     95.440373\n",
              "497       15.589878      137.777035  ...    -14.577918     96.935734\n",
              "\n",
              "[498 rows x 6 columns]"
            ]
          },
          "metadata": {},
          "execution_count": 42
        }
      ]
    },
    {
      "cell_type": "code",
      "metadata": {
        "colab": {
          "base_uri": "https://localhost:8080/"
        },
        "id": "NQ5WVf91s4uv",
        "outputId": "d094d118-f480-4e50-cd1d-456d049d0d81"
      },
      "source": [
        "df_value.mean(axis = 0 )"
      ],
      "execution_count": 11,
      "outputs": [
        {
          "output_type": "execute_result",
          "data": {
            "text/plain": [
              "value_adidas_1     15.652308\n",
              "value_adidas_2    138.971658\n",
              "value_adidas_3     72.871446\n",
              "value_nike_1       34.201771\n",
              "value_nike_2      -14.123851\n",
              "value_nike_3       96.969251\n",
              "dtype: float64"
            ]
          },
          "metadata": {},
          "execution_count": 11
        }
      ]
    },
    {
      "cell_type": "code",
      "metadata": {
        "id": "fVwTlzngs4wY"
      },
      "source": [
        "class Reward_value(RewardBase):\n",
        "    def __init__(self,df):\n",
        "        super(Reward_value, self ).__init__()\n",
        "\n",
        "        self.value = df[0]\n",
        "\n",
        "    def get_reward(self):\n",
        "        rn = np.random.randint(0,len(self.value))\n",
        "        return self.value[rn]"
      ],
      "execution_count": 16,
      "outputs": []
    },
    {
      "cell_type": "code",
      "metadata": {
        "id": "VWdSycATs4yr"
      },
      "source": [
        "rewards_3 = [Reward_value([df_value[c]]) for c in df_value.columns]"
      ],
      "execution_count": 17,
      "outputs": []
    },
    {
      "cell_type": "code",
      "metadata": {
        "id": "AmS4ihhXs41R"
      },
      "source": [
        "best_action = np.argmax(df_value.mean(axis=0))\n",
        "# Computing maximum reward                                  \n",
        "max_reward = df_value.iloc[:,best_action].mean()"
      ],
      "execution_count": 18,
      "outputs": []
    },
    {
      "cell_type": "code",
      "metadata": {
        "id": "u358xlnes44w"
      },
      "source": [
        "class ComparisonAgent(AgentBase):\n",
        "    def __init__(self, id, environment, alpha, beta):\n",
        "        super(ComparisonAgent, self).__init__(id, environment)\n",
        "        self.available_actions = self.environment.available_actions()\n",
        "        self.action_counts = [0]*self.available_actions\n",
        "        self.P = [0.0]*self.available_actions\n",
        "        self.policy = [1/self.available_actions]*self.available_actions\n",
        "        self.actions = list(range(self.available_actions))\n",
        "        self.mean_reward = 0.0\n",
        "        self.alpha = alpha\n",
        "        self.beta = beta\n",
        "        self.total_actions_count = 0\n",
        "\n",
        "        \n",
        "    def take_action(self):\n",
        "        action = np.random.choice(self.actions, 1, p=self.policy)[0]\n",
        "        obs, r, d, i = self.environment.step(action)\n",
        "\n",
        "        #update\n",
        "        self.mean_reward = (1-self.alpha)*self.mean_reward + self.alpha*r\n",
        "        self.P[action] = self.P[action] + self.beta*(r-self.mean_reward)\n",
        "\n",
        "        for i in range(len(self.policy)):\n",
        "            self.policy[i] = np.exp(self.P[i])/np.sum(np.exp(self.P))\n",
        "       \n",
        "        self.total_actions_count += 1\n",
        "        self.action_counts[action] += 1\n",
        "        return r, action"
      ],
      "execution_count": 25,
      "outputs": []
    },
    {
      "cell_type": "code",
      "metadata": {
        "id": "tYisZMRotDF2"
      },
      "source": [
        "def main_run(env):\n",
        "\n",
        "  mean_reward = []\n",
        "  action_1 = []\n",
        "  regret = []\n",
        "\n",
        "  for epoch in range(20):\n",
        "    reward = []\n",
        "    q_action = [ 0 for i in range(6)]\n",
        "    action_taken = [ 0 for i in range(6)]\n",
        "    regret_h = []\n",
        "    agent = ComparisonAgent('4',env,0.9,0.1)\n",
        "    env.reset()\n",
        "    for i in range(1000):\n",
        "      r,a = agent.take_action()\n",
        "      reward.append(r)\n",
        "      q_action[a] =( q_action[a]*action_taken[a]+r)/(action_taken[a]+1)\n",
        "      action_taken[a]+=1\n",
        "      regret_h.append(sum([(max_reward-q_action[i])*action_taken[i] for i in range(6)])) \n",
        "    regret.append(regret_h)\n",
        "    mean_reward.append(reward)\n",
        "    optimal_action = a\n",
        "  return np.mean(mean_reward,axis = 0),optimal_action,regret"
      ],
      "execution_count": 26,
      "outputs": []
    },
    {
      "cell_type": "code",
      "metadata": {
        "id": "WAPS-PbQtDHd"
      },
      "source": [
        "env_3 = MutliArmedBanditEnvironment(rewards_3, 1000, '5')"
      ],
      "execution_count": 27,
      "outputs": []
    },
    {
      "cell_type": "code",
      "metadata": {
        "colab": {
          "base_uri": "https://localhost:8080/",
          "height": 347
        },
        "id": "1e74oppatDLW",
        "outputId": "f955abfe-e382-400f-ec21-1aa4e145c8f5"
      },
      "source": [
        "d,optimal_action,regret= main_run(env_3)\n",
        "d = np.cumsum(d)\n",
        "for i in range(len(d)):\n",
        "  d[i] = d[i]/(i+1)\n",
        "print(\"action\" , optimal_action)\n",
        "print(\"reward\" , max_reward)\n",
        "plt.plot(d)\n",
        "plt.ylabel('Average Reward')\n",
        "plt.xlabel('Trials')\n",
        "plt.title('Average Reward per Trials - Reinforcment Comparison Method')"
      ],
      "execution_count": 28,
      "outputs": [
        {
          "output_type": "stream",
          "name": "stdout",
          "text": [
            "action 1\n",
            "reward 138.9716581196787\n"
          ]
        },
        {
          "output_type": "execute_result",
          "data": {
            "text/plain": [
              "Text(0.5, 1.0, 'Average Reward per Trials - Reinforcment Comparison Method')"
            ]
          },
          "metadata": {},
          "execution_count": 28
        },
        {
          "output_type": "display_data",
          "data": {
            "image/png": "[encoded data removed]",
            "text/plain": [
              "<Figure size 432x288 with 1 Axes>"
            ]
          },
          "metadata": {
            "needs_background": "light"
          }
        }
      ]
    },
    {
      "cell_type": "code",
      "metadata": {
        "colab": {
          "base_uri": "https://localhost:8080/",
          "height": 312
        },
        "id": "o2cw3loMtMKO",
        "outputId": "5f195c40-456d-4d57-fbdc-3b5a61685f85"
      },
      "source": [
        "for i in range(len(regret)):\n",
        "  plt.plot(regret[i])\n",
        "plt.ylabel('Regret')\n",
        "plt.xlabel('Trials')\n",
        "plt.title('Regret per Trials - Reinforcment Comparison Agent')"
      ],
      "execution_count": 29,
      "outputs": [
        {
          "output_type": "execute_result",
          "data": {
            "text/plain": [
              "Text(0.5, 1.0, 'Regret per Trials - Reinforcment Comparison Agent')"
            ]
          },
          "metadata": {},
          "execution_count": 29
        },
        {
          "output_type": "display_data",
          "data": {
            "image/png": "[encoded data removed]",
            "text/plain": [
              "<Figure size 432x288 with 1 Axes>"
            ]
          },
          "metadata": {
            "needs_background": "light"
          }
        }
      ]
    },
    {
      "cell_type": "code",
      "metadata": {
        "colab": {
          "base_uri": "https://localhost:8080/",
          "height": 312
        },
        "id": "kV71hulPtOl4",
        "outputId": "a04075d8-c3b2-4830-b969-cbe1f0f25e4b"
      },
      "source": [
        "plt.plot(np.mean(regret,axis = 0))\n",
        "plt.ylabel('Regret')\n",
        "plt.xlabel('Trials')\n",
        "plt.title('Mean Regret for 20 epoch')"
      ],
      "execution_count": 30,
      "outputs": [
        {
          "output_type": "execute_result",
          "data": {
            "text/plain": [
              "Text(0.5, 1.0, 'Mean Regret for 20 epoch')"
            ]
          },
          "metadata": {},
          "execution_count": 30
        },
        {
          "output_type": "display_data",
          "data": {
            "image/png": "[encoded data removed]",
            "text/plain": [
              "<Figure size 432x288 with 1 Axes>"
            ]
          },
          "metadata": {
            "needs_background": "light"
          }
        }
      ]
    }
  ]
}